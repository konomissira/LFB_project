{
 "cells": [
  {
   "cell_type": "code",
   "execution_count": 21,
   "id": "874e0886-d642-40dd-abef-f4a7db1451e1",
   "metadata": {},
   "outputs": [
    {
     "data": {
      "text/html": [
       "<div>\n",
       "<style scoped>\n",
       "    .dataframe tbody tr th:only-of-type {\n",
       "        vertical-align: middle;\n",
       "    }\n",
       "\n",
       "    .dataframe tbody tr th {\n",
       "        vertical-align: top;\n",
       "    }\n",
       "\n",
       "    .dataframe thead th {\n",
       "        text-align: right;\n",
       "    }\n",
       "</style>\n",
       "<table border=\"1\" class=\"dataframe\">\n",
       "  <thead>\n",
       "    <tr style=\"text-align: right;\">\n",
       "      <th></th>\n",
       "      <th>IncidentNumber</th>\n",
       "      <th>DateOfCall</th>\n",
       "      <th>CalYear</th>\n",
       "      <th>TimeOfCall</th>\n",
       "      <th>HourOfCall</th>\n",
       "      <th>IncidentGroup</th>\n",
       "      <th>StopCodeDescription</th>\n",
       "      <th>SpecialServiceType</th>\n",
       "      <th>PropertyCategory</th>\n",
       "      <th>PropertyType</th>\n",
       "      <th>...</th>\n",
       "      <th>FirstPumpArriving_AttendanceTime</th>\n",
       "      <th>FirstPumpArriving_DeployedFromStation</th>\n",
       "      <th>SecondPumpArriving_AttendanceTime</th>\n",
       "      <th>SecondPumpArriving_DeployedFromStation</th>\n",
       "      <th>NumStationsWithPumpsAttending</th>\n",
       "      <th>NumPumpsAttending</th>\n",
       "      <th>PumpCount</th>\n",
       "      <th>PumpHoursRoundUp</th>\n",
       "      <th>Notional Cost (£)</th>\n",
       "      <th>NumCalls</th>\n",
       "    </tr>\n",
       "  </thead>\n",
       "  <tbody>\n",
       "    <tr>\n",
       "      <th>0</th>\n",
       "      <td>000382-01012019</td>\n",
       "      <td>01 Jan 2019</td>\n",
       "      <td>2019</td>\n",
       "      <td>07:54:10</td>\n",
       "      <td>7</td>\n",
       "      <td>Fire</td>\n",
       "      <td>Primary Fire</td>\n",
       "      <td>NaN</td>\n",
       "      <td>Non Residential</td>\n",
       "      <td>Private Garden Shed</td>\n",
       "      <td>...</td>\n",
       "      <td>893.0</td>\n",
       "      <td>Sutton</td>\n",
       "      <td>NaN</td>\n",
       "      <td>NaN</td>\n",
       "      <td>1.0</td>\n",
       "      <td>1.0</td>\n",
       "      <td>1.0</td>\n",
       "      <td>1.0</td>\n",
       "      <td>333.0</td>\n",
       "      <td>1</td>\n",
       "    </tr>\n",
       "    <tr>\n",
       "      <th>1</th>\n",
       "      <td>000553-01012019</td>\n",
       "      <td>01 Jan 2019</td>\n",
       "      <td>2019</td>\n",
       "      <td>16:49:19</td>\n",
       "      <td>16</td>\n",
       "      <td>False Alarm</td>\n",
       "      <td>AFA</td>\n",
       "      <td>NaN</td>\n",
       "      <td>Dwelling</td>\n",
       "      <td>Purpose Built Flats/Maisonettes - Up to 3 stor...</td>\n",
       "      <td>...</td>\n",
       "      <td>437.0</td>\n",
       "      <td>Wallington</td>\n",
       "      <td>NaN</td>\n",
       "      <td>NaN</td>\n",
       "      <td>2.0</td>\n",
       "      <td>2.0</td>\n",
       "      <td>2.0</td>\n",
       "      <td>2.0</td>\n",
       "      <td>666.0</td>\n",
       "      <td>1</td>\n",
       "    </tr>\n",
       "    <tr>\n",
       "      <th>2</th>\n",
       "      <td>000577-01012019</td>\n",
       "      <td>01 Jan 2019</td>\n",
       "      <td>2019</td>\n",
       "      <td>18:16:05</td>\n",
       "      <td>18</td>\n",
       "      <td>Special Service</td>\n",
       "      <td>Special Service</td>\n",
       "      <td>Assist other agencies</td>\n",
       "      <td>Dwelling</td>\n",
       "      <td>House - single occupancy</td>\n",
       "      <td>...</td>\n",
       "      <td>382.0</td>\n",
       "      <td>Wallington</td>\n",
       "      <td>424.0</td>\n",
       "      <td>Croydon</td>\n",
       "      <td>2.0</td>\n",
       "      <td>2.0</td>\n",
       "      <td>2.0</td>\n",
       "      <td>4.0</td>\n",
       "      <td>1332.0</td>\n",
       "      <td>1</td>\n",
       "    </tr>\n",
       "    <tr>\n",
       "      <th>3</th>\n",
       "      <td>000624-01012019</td>\n",
       "      <td>01 Jan 2019</td>\n",
       "      <td>2019</td>\n",
       "      <td>21:08:28</td>\n",
       "      <td>21</td>\n",
       "      <td>Fire</td>\n",
       "      <td>Primary Fire</td>\n",
       "      <td>NaN</td>\n",
       "      <td>Outdoor Structure</td>\n",
       "      <td>Other outdoor equipment/machinery</td>\n",
       "      <td>...</td>\n",
       "      <td>364.0</td>\n",
       "      <td>Sutton</td>\n",
       "      <td>691.0</td>\n",
       "      <td>Surbiton</td>\n",
       "      <td>2.0</td>\n",
       "      <td>2.0</td>\n",
       "      <td>2.0</td>\n",
       "      <td>3.0</td>\n",
       "      <td>999.0</td>\n",
       "      <td>1</td>\n",
       "    </tr>\n",
       "    <tr>\n",
       "      <th>4</th>\n",
       "      <td>000730-02012019</td>\n",
       "      <td>02 Jan 2019</td>\n",
       "      <td>2019</td>\n",
       "      <td>06:10:00</td>\n",
       "      <td>6</td>\n",
       "      <td>False Alarm</td>\n",
       "      <td>AFA</td>\n",
       "      <td>NaN</td>\n",
       "      <td>Dwelling</td>\n",
       "      <td>Self contained Sheltered Housing</td>\n",
       "      <td>...</td>\n",
       "      <td>283.0</td>\n",
       "      <td>Sutton</td>\n",
       "      <td>620.0</td>\n",
       "      <td>Wallington</td>\n",
       "      <td>2.0</td>\n",
       "      <td>2.0</td>\n",
       "      <td>2.0</td>\n",
       "      <td>1.0</td>\n",
       "      <td>333.0</td>\n",
       "      <td>1</td>\n",
       "    </tr>\n",
       "  </tbody>\n",
       "</table>\n",
       "<p>5 rows × 39 columns</p>\n",
       "</div>"
      ],
      "text/plain": [
       "    IncidentNumber   DateOfCall  CalYear TimeOfCall  HourOfCall  \\\n",
       "0  000382-01012019  01 Jan 2019     2019   07:54:10           7   \n",
       "1  000553-01012019  01 Jan 2019     2019   16:49:19          16   \n",
       "2  000577-01012019  01 Jan 2019     2019   18:16:05          18   \n",
       "3  000624-01012019  01 Jan 2019     2019   21:08:28          21   \n",
       "4  000730-02012019  02 Jan 2019     2019   06:10:00           6   \n",
       "\n",
       "     IncidentGroup StopCodeDescription     SpecialServiceType  \\\n",
       "0             Fire        Primary Fire                    NaN   \n",
       "1      False Alarm                 AFA                    NaN   \n",
       "2  Special Service     Special Service  Assist other agencies   \n",
       "3             Fire        Primary Fire                    NaN   \n",
       "4      False Alarm                 AFA                    NaN   \n",
       "\n",
       "    PropertyCategory                                       PropertyType  ...  \\\n",
       "0    Non Residential                               Private Garden Shed   ...   \n",
       "1           Dwelling  Purpose Built Flats/Maisonettes - Up to 3 stor...  ...   \n",
       "2           Dwelling                          House - single occupancy   ...   \n",
       "3  Outdoor Structure                 Other outdoor equipment/machinery   ...   \n",
       "4           Dwelling                  Self contained Sheltered Housing   ...   \n",
       "\n",
       "  FirstPumpArriving_AttendanceTime FirstPumpArriving_DeployedFromStation  \\\n",
       "0                            893.0                                Sutton   \n",
       "1                            437.0                            Wallington   \n",
       "2                            382.0                            Wallington   \n",
       "3                            364.0                                Sutton   \n",
       "4                            283.0                                Sutton   \n",
       "\n",
       "  SecondPumpArriving_AttendanceTime  SecondPumpArriving_DeployedFromStation  \\\n",
       "0                               NaN                                     NaN   \n",
       "1                               NaN                                     NaN   \n",
       "2                             424.0                                 Croydon   \n",
       "3                             691.0                                Surbiton   \n",
       "4                             620.0                              Wallington   \n",
       "\n",
       "   NumStationsWithPumpsAttending NumPumpsAttending PumpCount PumpHoursRoundUp  \\\n",
       "0                            1.0               1.0       1.0              1.0   \n",
       "1                            2.0               2.0       2.0              2.0   \n",
       "2                            2.0               2.0       2.0              4.0   \n",
       "3                            2.0               2.0       2.0              3.0   \n",
       "4                            2.0               2.0       2.0              1.0   \n",
       "\n",
       "  Notional Cost (£) NumCalls  \n",
       "0             333.0        1  \n",
       "1             666.0        1  \n",
       "2            1332.0        1  \n",
       "3             999.0        1  \n",
       "4             333.0        1  \n",
       "\n",
       "[5 rows x 39 columns]"
      ]
     },
     "execution_count": 21,
     "metadata": {},
     "output_type": "execute_result"
    }
   ],
   "source": [
    "import pandas as pd\n",
    "import matplotlib.pyplot as plt\n",
    "import seaborn as sns\n",
    "\n",
    "# 2. Load Dataset\n",
    "data = pd.read_excel('../stage_report/Sutton_Borough_Data.xlsx')\n",
    "data.head()"
   ]
  },
  {
   "cell_type": "code",
   "execution_count": 22,
   "id": "df6e9938-2abd-4c4a-94a4-976d8cb78056",
   "metadata": {},
   "outputs": [
    {
     "data": {
      "text/html": [
       "<div>\n",
       "<style scoped>\n",
       "    .dataframe tbody tr th:only-of-type {\n",
       "        vertical-align: middle;\n",
       "    }\n",
       "\n",
       "    .dataframe tbody tr th {\n",
       "        vertical-align: top;\n",
       "    }\n",
       "\n",
       "    .dataframe thead th {\n",
       "        text-align: right;\n",
       "    }\n",
       "</style>\n",
       "<table border=\"1\" class=\"dataframe\">\n",
       "  <thead>\n",
       "    <tr style=\"text-align: right;\">\n",
       "      <th></th>\n",
       "      <th>Postcode_district</th>\n",
       "      <th>DateOfCall</th>\n",
       "      <th>TimeOfCall</th>\n",
       "      <th>IncidentGroup</th>\n",
       "      <th>StopCodeDescription</th>\n",
       "      <th>NumStationsWithPumpsAttending</th>\n",
       "      <th>NumPumpsAttending</th>\n",
       "      <th>PropertyCategory</th>\n",
       "      <th>PropertyType</th>\n",
       "    </tr>\n",
       "  </thead>\n",
       "  <tbody>\n",
       "    <tr>\n",
       "      <th>0</th>\n",
       "      <td>SM1</td>\n",
       "      <td>01 Jan 2019</td>\n",
       "      <td>07:54:10</td>\n",
       "      <td>Fire</td>\n",
       "      <td>Primary Fire</td>\n",
       "      <td>1.0</td>\n",
       "      <td>1.0</td>\n",
       "      <td>Non Residential</td>\n",
       "      <td>Private Garden Shed</td>\n",
       "    </tr>\n",
       "    <tr>\n",
       "      <th>1</th>\n",
       "      <td>SM1</td>\n",
       "      <td>01 Jan 2019</td>\n",
       "      <td>16:49:19</td>\n",
       "      <td>False Alarm</td>\n",
       "      <td>AFA</td>\n",
       "      <td>2.0</td>\n",
       "      <td>2.0</td>\n",
       "      <td>Dwelling</td>\n",
       "      <td>Purpose Built Flats/Maisonettes - Up to 3 stor...</td>\n",
       "    </tr>\n",
       "    <tr>\n",
       "      <th>2</th>\n",
       "      <td>SM6</td>\n",
       "      <td>01 Jan 2019</td>\n",
       "      <td>18:16:05</td>\n",
       "      <td>Special Service</td>\n",
       "      <td>Special Service</td>\n",
       "      <td>2.0</td>\n",
       "      <td>2.0</td>\n",
       "      <td>Dwelling</td>\n",
       "      <td>House - single occupancy</td>\n",
       "    </tr>\n",
       "    <tr>\n",
       "      <th>3</th>\n",
       "      <td>KT4</td>\n",
       "      <td>01 Jan 2019</td>\n",
       "      <td>21:08:28</td>\n",
       "      <td>Fire</td>\n",
       "      <td>Primary Fire</td>\n",
       "      <td>2.0</td>\n",
       "      <td>2.0</td>\n",
       "      <td>Outdoor Structure</td>\n",
       "      <td>Other outdoor equipment/machinery</td>\n",
       "    </tr>\n",
       "    <tr>\n",
       "      <th>4</th>\n",
       "      <td>SM1</td>\n",
       "      <td>02 Jan 2019</td>\n",
       "      <td>06:10:00</td>\n",
       "      <td>False Alarm</td>\n",
       "      <td>AFA</td>\n",
       "      <td>2.0</td>\n",
       "      <td>2.0</td>\n",
       "      <td>Dwelling</td>\n",
       "      <td>Self contained Sheltered Housing</td>\n",
       "    </tr>\n",
       "  </tbody>\n",
       "</table>\n",
       "</div>"
      ],
      "text/plain": [
       "  Postcode_district   DateOfCall TimeOfCall    IncidentGroup  \\\n",
       "0               SM1  01 Jan 2019   07:54:10             Fire   \n",
       "1               SM1  01 Jan 2019   16:49:19      False Alarm   \n",
       "2               SM6  01 Jan 2019   18:16:05  Special Service   \n",
       "3               KT4  01 Jan 2019   21:08:28             Fire   \n",
       "4               SM1  02 Jan 2019   06:10:00      False Alarm   \n",
       "\n",
       "  StopCodeDescription  NumStationsWithPumpsAttending  NumPumpsAttending  \\\n",
       "0        Primary Fire                            1.0                1.0   \n",
       "1                 AFA                            2.0                2.0   \n",
       "2     Special Service                            2.0                2.0   \n",
       "3        Primary Fire                            2.0                2.0   \n",
       "4                 AFA                            2.0                2.0   \n",
       "\n",
       "    PropertyCategory                                       PropertyType  \n",
       "0    Non Residential                               Private Garden Shed   \n",
       "1           Dwelling  Purpose Built Flats/Maisonettes - Up to 3 stor...  \n",
       "2           Dwelling                          House - single occupancy   \n",
       "3  Outdoor Structure                 Other outdoor equipment/machinery   \n",
       "4           Dwelling                  Self contained Sheltered Housing   "
      ]
     },
     "execution_count": 22,
     "metadata": {},
     "output_type": "execute_result"
    }
   ],
   "source": [
    "data_subset = data[['Postcode_district', 'DateOfCall', 'TimeOfCall', 'IncidentGroup', 'StopCodeDescription', 'NumStationsWithPumpsAttending', 'NumPumpsAttending', 'PropertyCategory', 'PropertyType']]\n",
    "data_subset.head()"
   ]
  },
  {
   "cell_type": "code",
   "execution_count": 23,
   "id": "0f6094ad-8449-4998-bb30-d51e35dc81c6",
   "metadata": {},
   "outputs": [
    {
     "name": "stdout",
     "output_type": "stream",
     "text": [
      "<class 'pandas.core.frame.DataFrame'>\n",
      "RangeIndex: 7301 entries, 0 to 7300\n",
      "Data columns (total 9 columns):\n",
      " #   Column                         Non-Null Count  Dtype  \n",
      "---  ------                         --------------  -----  \n",
      " 0   Postcode_district              7301 non-null   object \n",
      " 1   DateOfCall                     7301 non-null   object \n",
      " 2   TimeOfCall                     7301 non-null   object \n",
      " 3   IncidentGroup                  7301 non-null   object \n",
      " 4   StopCodeDescription            7301 non-null   object \n",
      " 5   NumStationsWithPumpsAttending  7201 non-null   float64\n",
      " 6   NumPumpsAttending              7201 non-null   float64\n",
      " 7   PropertyCategory               7301 non-null   object \n",
      " 8   PropertyType                   7301 non-null   object \n",
      "dtypes: float64(2), object(7)\n",
      "memory usage: 513.5+ KB\n"
     ]
    }
   ],
   "source": [
    "data_subset.info()"
   ]
  },
  {
   "cell_type": "code",
   "execution_count": 24,
   "id": "be4e0c87-cbc3-40af-b1a7-31198adaf881",
   "metadata": {},
   "outputs": [
    {
     "data": {
      "text/plain": [
       "Postcode_district                  0\n",
       "DateOfCall                         0\n",
       "TimeOfCall                         0\n",
       "IncidentGroup                      0\n",
       "StopCodeDescription                0\n",
       "NumStationsWithPumpsAttending    100\n",
       "NumPumpsAttending                100\n",
       "PropertyCategory                   0\n",
       "PropertyType                       0\n",
       "dtype: int64"
      ]
     },
     "execution_count": 24,
     "metadata": {},
     "output_type": "execute_result"
    }
   ],
   "source": [
    "data_subset.isnull().sum()"
   ]
  },
  {
   "cell_type": "code",
   "execution_count": 25,
   "id": "6eb1fd33-2ab7-4c38-b4af-64831c48e37a",
   "metadata": {},
   "outputs": [
    {
     "name": "stdout",
     "output_type": "stream",
     "text": [
      "<class 'pandas.core.frame.DataFrame'>\n",
      "Index: 7201 entries, 0 to 7300\n",
      "Data columns (total 9 columns):\n",
      " #   Column                         Non-Null Count  Dtype  \n",
      "---  ------                         --------------  -----  \n",
      " 0   Postcode_district              7201 non-null   object \n",
      " 1   DateOfCall                     7201 non-null   object \n",
      " 2   TimeOfCall                     7201 non-null   object \n",
      " 3   IncidentGroup                  7201 non-null   object \n",
      " 4   StopCodeDescription            7201 non-null   object \n",
      " 5   NumStationsWithPumpsAttending  7201 non-null   float64\n",
      " 6   NumPumpsAttending              7201 non-null   float64\n",
      " 7   PropertyCategory               7201 non-null   object \n",
      " 8   PropertyType                   7201 non-null   object \n",
      "dtypes: float64(2), object(7)\n",
      "memory usage: 562.6+ KB\n"
     ]
    },
    {
     "data": {
      "text/plain": [
       "(Postcode_district                0\n",
       " DateOfCall                       0\n",
       " TimeOfCall                       0\n",
       " IncidentGroup                    0\n",
       " StopCodeDescription              0\n",
       " NumStationsWithPumpsAttending    0\n",
       " NumPumpsAttending                0\n",
       " PropertyCategory                 0\n",
       " PropertyType                     0\n",
       " dtype: int64,\n",
       " None)"
      ]
     },
     "execution_count": 25,
     "metadata": {},
     "output_type": "execute_result"
    }
   ],
   "source": [
    "# Removing rows where 'NumStationsWithPumpsAttending' and 'NumPumpsAttending' are missing\n",
    "data_subset = data_subset.dropna(subset=['NumStationsWithPumpsAttending', 'NumPumpsAttending'])\n",
    "\n",
    "# Verify the removal of missing values\n",
    "missing_values_after_removal = data_subset.isnull().sum()\n",
    "\n",
    "# Updated info on the cleaned dataset\n",
    "cleaned_info = data_subset.info()\n",
    "\n",
    "missing_values_after_removal, cleaned_info\n"
   ]
  },
  {
   "cell_type": "code",
   "execution_count": 26,
   "id": "7b549505-8093-46a5-ba43-1ac35c215dcd",
   "metadata": {},
   "outputs": [
    {
     "name": "stderr",
     "output_type": "stream",
     "text": [
      "/var/folders/j4/ht1gj4d93d59dff35jybnp_c0000gn/T/ipykernel_48502/2470788935.py:3: UserWarning: Could not infer format, so each element will be parsed individually, falling back to `dateutil`. To ensure parsing is consistent and as-expected, please specify a format.\n",
      "  data_subset['TimeOfCall'] = pd.to_datetime(data_subset['TimeOfCall'])\n"
     ]
    }
   ],
   "source": [
    "# Converting 'DateOfCall' and 'TimeOfCall' into datetime format\n",
    "data_subset['DateOfCall'] = pd.to_datetime(data_subset['DateOfCall'])\n",
    "data_subset['TimeOfCall'] = pd.to_datetime(data_subset['TimeOfCall'])"
   ]
  },
  {
   "cell_type": "code",
   "execution_count": 27,
   "id": "6833d680-eed8-4850-b2ef-54a33fbcf5f3",
   "metadata": {},
   "outputs": [
    {
     "data": {
      "text/plain": [
       "Postcode_district                        object\n",
       "DateOfCall                       datetime64[ns]\n",
       "TimeOfCall                       datetime64[ns]\n",
       "IncidentGroup                            object\n",
       "StopCodeDescription                      object\n",
       "NumStationsWithPumpsAttending           float64\n",
       "NumPumpsAttending                       float64\n",
       "PropertyCategory                         object\n",
       "PropertyType                             object\n",
       "dtype: object"
      ]
     },
     "execution_count": 27,
     "metadata": {},
     "output_type": "execute_result"
    }
   ],
   "source": [
    "data_subset.dtypes"
   ]
  },
  {
   "cell_type": "markdown",
   "id": "7947451f-bb3d-441a-961f-17f489c15451",
   "metadata": {},
   "source": [
    "## Exploring IncidentGroup and StopCodeDescription"
   ]
  },
  {
   "cell_type": "code",
   "execution_count": 28,
   "id": "5dc3d85c-76fa-4812-b80a-f5ce5f7df2e8",
   "metadata": {},
   "outputs": [
    {
     "data": {
      "text/plain": [
       "(IncidentGroup\n",
       " False Alarm        3809\n",
       " Special Service    2055\n",
       " Fire               1337\n",
       " Name: count, dtype: int64,\n",
       " StopCodeDescription\n",
       " AFA                                      2951\n",
       " Special Service                          2054\n",
       " False alarm - Good intent                 773\n",
       " Primary Fire                              685\n",
       " Secondary Fire                            650\n",
       " False alarm - Malicious                    85\n",
       " Chimney Fire                                2\n",
       " Flood call attended - Batch mobilised       1\n",
       " Name: count, dtype: int64)"
      ]
     },
     "execution_count": 28,
     "metadata": {},
     "output_type": "execute_result"
    }
   ],
   "source": [
    "\n",
    "# Count of unique values in 'IncidentGroup'\n",
    "incident_group_counts = data_subset['IncidentGroup'].value_counts()\n",
    "\n",
    "# Count of unique values in 'StopCodeDescription'\n",
    "stop_code_description_counts = data_subset['StopCodeDescription'].value_counts()\n",
    "\n",
    "incident_group_counts, stop_code_description_counts\n"
   ]
  },
  {
   "cell_type": "code",
   "execution_count": null,
   "id": "daf0d845-d442-4f05-a0f5-372a12183e19",
   "metadata": {},
   "outputs": [],
   "source": []
  },
  {
   "cell_type": "code",
   "execution_count": 29,
   "id": "6133c720-d6f4-492a-87f6-197348625954",
   "metadata": {},
   "outputs": [
    {
     "data": {
      "text/html": [
       "<div>\n",
       "<style scoped>\n",
       "    .dataframe tbody tr th:only-of-type {\n",
       "        vertical-align: middle;\n",
       "    }\n",
       "\n",
       "    .dataframe tbody tr th {\n",
       "        vertical-align: top;\n",
       "    }\n",
       "\n",
       "    .dataframe thead th {\n",
       "        text-align: right;\n",
       "    }\n",
       "</style>\n",
       "<table border=\"1\" class=\"dataframe\">\n",
       "  <thead>\n",
       "    <tr style=\"text-align: right;\">\n",
       "      <th>IncidentGroup</th>\n",
       "      <th>False Alarm</th>\n",
       "      <th>Fire</th>\n",
       "      <th>Special Service</th>\n",
       "      <th>Total Incidents</th>\n",
       "    </tr>\n",
       "    <tr>\n",
       "      <th>Postcode_district</th>\n",
       "      <th></th>\n",
       "      <th></th>\n",
       "      <th></th>\n",
       "      <th></th>\n",
       "    </tr>\n",
       "  </thead>\n",
       "  <tbody>\n",
       "    <tr>\n",
       "      <th>SM1</th>\n",
       "      <td>1053</td>\n",
       "      <td>342</td>\n",
       "      <td>563</td>\n",
       "      <td>1958</td>\n",
       "    </tr>\n",
       "    <tr>\n",
       "      <th>SM6</th>\n",
       "      <td>733</td>\n",
       "      <td>251</td>\n",
       "      <td>444</td>\n",
       "      <td>1428</td>\n",
       "    </tr>\n",
       "    <tr>\n",
       "      <th>SM5</th>\n",
       "      <td>622</td>\n",
       "      <td>284</td>\n",
       "      <td>370</td>\n",
       "      <td>1276</td>\n",
       "    </tr>\n",
       "    <tr>\n",
       "      <th>SM2</th>\n",
       "      <td>506</td>\n",
       "      <td>115</td>\n",
       "      <td>246</td>\n",
       "      <td>867</td>\n",
       "    </tr>\n",
       "    <tr>\n",
       "      <th>SM3</th>\n",
       "      <td>357</td>\n",
       "      <td>114</td>\n",
       "      <td>176</td>\n",
       "      <td>647</td>\n",
       "    </tr>\n",
       "    <tr>\n",
       "      <th>CR0</th>\n",
       "      <td>198</td>\n",
       "      <td>56</td>\n",
       "      <td>63</td>\n",
       "      <td>317</td>\n",
       "    </tr>\n",
       "    <tr>\n",
       "      <th>KT4</th>\n",
       "      <td>159</td>\n",
       "      <td>59</td>\n",
       "      <td>87</td>\n",
       "      <td>305</td>\n",
       "    </tr>\n",
       "    <tr>\n",
       "      <th>SM4</th>\n",
       "      <td>53</td>\n",
       "      <td>51</td>\n",
       "      <td>31</td>\n",
       "      <td>135</td>\n",
       "    </tr>\n",
       "    <tr>\n",
       "      <th>CR4</th>\n",
       "      <td>32</td>\n",
       "      <td>44</td>\n",
       "      <td>42</td>\n",
       "      <td>118</td>\n",
       "    </tr>\n",
       "    <tr>\n",
       "      <th>CR8</th>\n",
       "      <td>39</td>\n",
       "      <td>4</td>\n",
       "      <td>7</td>\n",
       "      <td>50</td>\n",
       "    </tr>\n",
       "    <tr>\n",
       "      <th>SM7</th>\n",
       "      <td>18</td>\n",
       "      <td>6</td>\n",
       "      <td>15</td>\n",
       "      <td>39</td>\n",
       "    </tr>\n",
       "    <tr>\n",
       "      <th>CR5</th>\n",
       "      <td>10</td>\n",
       "      <td>11</td>\n",
       "      <td>8</td>\n",
       "      <td>29</td>\n",
       "    </tr>\n",
       "    <tr>\n",
       "      <th>CR9</th>\n",
       "      <td>27</td>\n",
       "      <td>0</td>\n",
       "      <td>0</td>\n",
       "      <td>27</td>\n",
       "    </tr>\n",
       "    <tr>\n",
       "      <th>KT17</th>\n",
       "      <td>2</td>\n",
       "      <td>0</td>\n",
       "      <td>3</td>\n",
       "      <td>5</td>\n",
       "    </tr>\n",
       "  </tbody>\n",
       "</table>\n",
       "</div>"
      ],
      "text/plain": [
       "IncidentGroup      False Alarm  Fire  Special Service  Total Incidents\n",
       "Postcode_district                                                     \n",
       "SM1                       1053   342              563             1958\n",
       "SM6                        733   251              444             1428\n",
       "SM5                        622   284              370             1276\n",
       "SM2                        506   115              246              867\n",
       "SM3                        357   114              176              647\n",
       "CR0                        198    56               63              317\n",
       "KT4                        159    59               87              305\n",
       "SM4                         53    51               31              135\n",
       "CR4                         32    44               42              118\n",
       "CR8                         39     4                7               50\n",
       "SM7                         18     6               15               39\n",
       "CR5                         10    11                8               29\n",
       "CR9                         27     0                0               27\n",
       "KT17                         2     0                3                5"
      ]
     },
     "execution_count": 29,
     "metadata": {},
     "output_type": "execute_result"
    }
   ],
   "source": [
    "# Aggregating incidents by 'Postcode_district' and 'IncidentGroup'\n",
    "incident_counts_by_postcode = data_subset.groupby(['Postcode_district', 'IncidentGroup']).size().unstack(fill_value=0)\n",
    "\n",
    "# Calculating total incidents for each 'Postcode_district'\n",
    "incident_counts_by_postcode['Total Incidents'] = incident_counts_by_postcode.sum(axis=1)\n",
    "\n",
    "# Sorting by total incidents to see the areas with the highest number of incidents\n",
    "incident_counts_by_postcode_sorted = incident_counts_by_postcode.sort_values(by='Total Incidents', ascending=False)\n",
    "\n",
    "incident_counts_by_postcode_sorted\n"
   ]
  },
  {
   "cell_type": "code",
   "execution_count": 30,
   "id": "d5d9319f-7cf0-4061-b40a-1185377d9fda",
   "metadata": {},
   "outputs": [
    {
     "data": {
      "text/plain": [
       "(PropertyCategory\n",
       " Dwelling             3646\n",
       " Non Residential      1598\n",
       " Outdoor               697\n",
       " Road Vehicle          645\n",
       " Outdoor Structure     352\n",
       " Other Residential     262\n",
       " Rail Vehicle            1\n",
       " Name: count, dtype: int64,\n",
       " PropertyType       Animal harm outdoors  Animal products processing plant  \\\n",
       " PropertyCategory                                                            \n",
       " Dwelling                              0                                 0   \n",
       " Non Residential                       0                                 1   \n",
       " Other Residential                     0                                 0   \n",
       " Outdoor                               2                                 0   \n",
       " Outdoor Structure                     0                                 0   \n",
       " Rail Vehicle                          0                                 0   \n",
       " Road Vehicle                          0                                 0   \n",
       " \n",
       " PropertyType       Bank/Building Society   Barbecue  Bingo Hall   \\\n",
       " PropertyCategory                                                   \n",
       " Dwelling                                0         0            0   \n",
       " Non Residential                         7         0            4   \n",
       " Other Residential                       0         0            0   \n",
       " Outdoor                                 0         0            0   \n",
       " Outdoor Structure                       0        10            0   \n",
       " Rail Vehicle                            0         0            0   \n",
       " Road Vehicle                            0         0            0   \n",
       " \n",
       " PropertyType       Boarding House/B&B for homeless/asylum seekers   \\\n",
       " PropertyCategory                                                     \n",
       " Dwelling                                                         0   \n",
       " Non Residential                                                  0   \n",
       " Other Residential                                               13   \n",
       " Outdoor                                                          0   \n",
       " Outdoor Structure                                                0   \n",
       " Rail Vehicle                                                     0   \n",
       " Road Vehicle                                                     0   \n",
       " \n",
       " PropertyType       Boarding House/B&B other   \\\n",
       " PropertyCategory                               \n",
       " Dwelling                                   0   \n",
       " Non Residential                            0   \n",
       " Other Residential                          2   \n",
       " Outdoor                                    0   \n",
       " Outdoor Structure                          0   \n",
       " Rail Vehicle                               0   \n",
       " Road Vehicle                               0   \n",
       " \n",
       " PropertyType       Bulk hazardous materials storage  \\\n",
       " PropertyCategory                                      \n",
       " Dwelling                                          0   \n",
       " Non Residential                                   1   \n",
       " Other Residential                                 0   \n",
       " Outdoor                                           0   \n",
       " Outdoor Structure                                 0   \n",
       " Rail Vehicle                                      0   \n",
       " Road Vehicle                                      0   \n",
       " \n",
       " PropertyType       Bungalow - single occupancy   Bus/coach   ...  Van   \\\n",
       " PropertyCategory                                             ...         \n",
       " Dwelling                                     34           0  ...     0   \n",
       " Non Residential                               0           0  ...     0   \n",
       " Other Residential                             0           0  ...     0   \n",
       " Outdoor                                       0           0  ...     0   \n",
       " Outdoor Structure                             0           0  ...     0   \n",
       " Rail Vehicle                                  0           0  ...     0   \n",
       " Road Vehicle                                  0          13  ...    22   \n",
       " \n",
       " PropertyType       Vehicle Repair Workshop  Vehicle sales building  \\\n",
       " PropertyCategory                                                     \n",
       " Dwelling                                 0                       0   \n",
       " Non Residential                         17                       4   \n",
       " Other Residential                        0                       0   \n",
       " Outdoor                                  0                       0   \n",
       " Outdoor Structure                        0                       0   \n",
       " Rail Vehicle                             0                       0   \n",
       " Road Vehicle                             0                       0   \n",
       " \n",
       " PropertyType       Veterinary surgery  Warehouse   Wasteland   \\\n",
       " PropertyCategory                                                \n",
       " Dwelling                            0           0           0   \n",
       " Non Residential                     3          69           0   \n",
       " Other Residential                   0           0           0   \n",
       " Outdoor                             0           0           8   \n",
       " Outdoor Structure                   0           0           0   \n",
       " Rail Vehicle                        0           0           0   \n",
       " Road Vehicle                        0           0           0   \n",
       " \n",
       " PropertyType       Wheelie bin (domestic size)  \\\n",
       " PropertyCategory                                 \n",
       " Dwelling                                     0   \n",
       " Non Residential                              0   \n",
       " Other Residential                            0   \n",
       " Outdoor                                      0   \n",
       " Outdoor Structure                           28   \n",
       " Rail Vehicle                                 0   \n",
       " Road Vehicle                                 0   \n",
       " \n",
       " PropertyType       Woodland/forest - broadleaf/hardwood   \\\n",
       " PropertyCategory                                           \n",
       " Dwelling                                               0   \n",
       " Non Residential                                        0   \n",
       " Other Residential                                      0   \n",
       " Outdoor                                                6   \n",
       " Outdoor Structure                                      0   \n",
       " Rail Vehicle                                           0   \n",
       " Road Vehicle                                           0   \n",
       " \n",
       " PropertyType       Woodland/forest - conifers/softwood   Youth hostel   \n",
       " PropertyCategory                                                        \n",
       " Dwelling                                              0              0  \n",
       " Non Residential                                       0              0  \n",
       " Other Residential                                     0              1  \n",
       " Outdoor                                               8              0  \n",
       " Outdoor Structure                                     0              0  \n",
       " Rail Vehicle                                          0              0  \n",
       " Road Vehicle                                          0              0  \n",
       " \n",
       " [7 rows x 180 columns])"
      ]
     },
     "execution_count": 30,
     "metadata": {},
     "output_type": "execute_result"
    }
   ],
   "source": [
    "# Summarizing the number of incidents by 'PropertyCategory'\n",
    "property_category_counts = data_subset['PropertyCategory'].value_counts()\n",
    "\n",
    "# Further breaking down by 'PropertyType' within each 'PropertyCategory'\n",
    "property_type_counts = data_subset.groupby(['PropertyCategory', 'PropertyType']).size().unstack(fill_value=0)\n",
    "\n",
    "property_category_counts, property_type_counts\n"
   ]
  },
  {
   "cell_type": "code",
   "execution_count": 31,
   "id": "a538d8a0-68ea-49ef-b01f-158f512d5eb2",
   "metadata": {},
   "outputs": [
    {
     "data": {
      "text/plain": [
       "Postcode_district                        object\n",
       "DateOfCall                       datetime64[ns]\n",
       "TimeOfCall                       datetime64[ns]\n",
       "IncidentGroup                            object\n",
       "StopCodeDescription                      object\n",
       "NumStationsWithPumpsAttending           float64\n",
       "NumPumpsAttending                       float64\n",
       "PropertyCategory                         object\n",
       "PropertyType                             object\n",
       "dtype: object"
      ]
     },
     "execution_count": 31,
     "metadata": {},
     "output_type": "execute_result"
    }
   ],
   "source": [
    "data_subset.dtypes"
   ]
  },
  {
   "cell_type": "markdown",
   "id": "5854848e-b708-44d9-afe0-b60c5002dd03",
   "metadata": {},
   "source": [
    "# Handling Categorical Variables\n",
    "## Splitting the dataset into training and testing sets"
   ]
  },
  {
   "cell_type": "code",
   "execution_count": 32,
   "id": "c67f5c97-9b6e-46d5-8294-99f6020a9764",
   "metadata": {},
   "outputs": [
    {
     "name": "stderr",
     "output_type": "stream",
     "text": [
      "/opt/anaconda3/lib/python3.11/site-packages/sklearn/preprocessing/_encoders.py:868: FutureWarning: `sparse` was renamed to `sparse_output` in version 1.2 and will be removed in 1.4. `sparse_output` is ignored unless you leave `sparse` to its default value.\n",
      "  warnings.warn(\n"
     ]
    }
   ],
   "source": [
    "import pandas as pd\n",
    "from sklearn.model_selection import train_test_split\n",
    "from sklearn.preprocessing import OneHotEncoder\n",
    "\n",
    "# Selecting relevant features and target variable\n",
    "X = data_subset[['Postcode_district', 'PropertyCategory']]\n",
    "y = data_subset['IncidentGroup'].apply(lambda x: 1 if x == 'False Alarm' else 0)\n",
    "\n",
    "# One-Hot Encoding\n",
    "encoder = OneHotEncoder(sparse=False)\n",
    "X_encoded = encoder.fit_transform(X)\n",
    "\n",
    "# Splitting the dataset into training and testing sets\n",
    "X_train, X_test, y_train, y_test = train_test_split(X_encoded, y, test_size=0.2, random_state=42)\n"
   ]
  },
  {
   "cell_type": "markdown",
   "id": "a67a1660-5ba6-46e1-9c6d-529f746033cf",
   "metadata": {},
   "source": [
    "# Modeling\n",
    "\n",
    "## Logistic Regression"
   ]
  },
  {
   "cell_type": "code",
   "execution_count": 33,
   "id": "b2a3d654-f6dd-4ecc-a636-b4c833833c82",
   "metadata": {},
   "outputs": [
    {
     "name": "stdout",
     "output_type": "stream",
     "text": [
      "Logistic Regression Performance:\n",
      "              precision    recall  f1-score   support\n",
      "\n",
      "           0       0.81      0.44      0.57       654\n",
      "           1       0.66      0.91      0.77       787\n",
      "\n",
      "    accuracy                           0.70      1441\n",
      "   macro avg       0.73      0.68      0.67      1441\n",
      "weighted avg       0.73      0.70      0.68      1441\n",
      "\n"
     ]
    }
   ],
   "source": [
    "from sklearn.linear_model import LogisticRegression\n",
    "from sklearn.metrics import classification_report, accuracy_score\n",
    "\n",
    "# Logistic Regression model\n",
    "log_reg = LogisticRegression(max_iter=1000)\n",
    "log_reg.fit(X_train, y_train)\n",
    "\n",
    "# Predictions\n",
    "y_pred_log_reg = log_reg.predict(X_test)\n",
    "\n",
    "# Evaluation\n",
    "print(\"Logistic Regression Performance:\")\n",
    "print(classification_report(y_test, y_pred_log_reg))\n"
   ]
  },
  {
   "cell_type": "markdown",
   "id": "f2a526e6-9c29-4870-99f1-0d399fffb1bf",
   "metadata": {},
   "source": [
    "# Modeling \n",
    "\n",
    "## Decision Trees"
   ]
  },
  {
   "cell_type": "code",
   "execution_count": 34,
   "id": "a0a4a896-4ea0-49bd-bc9c-fcfd9a12c5c3",
   "metadata": {},
   "outputs": [
    {
     "name": "stdout",
     "output_type": "stream",
     "text": [
      "Decision Tree Performance:\n",
      "              precision    recall  f1-score   support\n",
      "\n",
      "           0       0.80      0.44      0.57       654\n",
      "           1       0.66      0.91      0.76       787\n",
      "\n",
      "    accuracy                           0.70      1441\n",
      "   macro avg       0.73      0.67      0.67      1441\n",
      "weighted avg       0.72      0.70      0.68      1441\n",
      "\n"
     ]
    }
   ],
   "source": [
    "from sklearn.tree import DecisionTreeClassifier\n",
    "\n",
    "# Decision Tree model\n",
    "decision_tree = DecisionTreeClassifier(random_state=42)\n",
    "decision_tree.fit(X_train, y_train)\n",
    "\n",
    "# Predictions\n",
    "y_pred_decision_tree = decision_tree.predict(X_test)\n",
    "\n",
    "# Evaluation\n",
    "print(\"Decision Tree Performance:\")\n",
    "print(classification_report(y_test, y_pred_decision_tree))\n"
   ]
  },
  {
   "cell_type": "markdown",
   "id": "cf108f89-1850-4f1b-94c1-4e284e4c3a47",
   "metadata": {},
   "source": [
    "# Descriptive Modeling"
   ]
  },
  {
   "cell_type": "markdown",
   "id": "efa1148f-c560-43aa-92a6-411e621e658d",
   "metadata": {},
   "source": [
    "## Data Preprocessing"
   ]
  },
  {
   "cell_type": "code",
   "execution_count": 35,
   "id": "672f6357-fdf7-4fda-b657-000f38b33d60",
   "metadata": {},
   "outputs": [],
   "source": [
    "from sklearn.preprocessing import StandardScaler\n",
    "\n",
    "# Standardizing the data\n",
    "scaler = StandardScaler()\n",
    "# X_encoded from the predictive modeling\n",
    "X_scaled = scaler.fit_transform(X_encoded)\n"
   ]
  },
  {
   "cell_type": "markdown",
   "id": "94161229-d025-4e24-bb82-b09c5d1e65b3",
   "metadata": {},
   "source": [
    "# K-Means Clustering"
   ]
  },
  {
   "cell_type": "code",
   "execution_count": 55,
   "id": "de828960-90f0-4ac6-932b-306dcd56bd20",
   "metadata": {},
   "outputs": [
    {
     "name": "stderr",
     "output_type": "stream",
     "text": [
      "/opt/anaconda3/lib/python3.11/site-packages/sklearn/cluster/_kmeans.py:870: FutureWarning: The default value of `n_init` will change from 10 to 'auto' in 1.4. Set the value of `n_init` explicitly to suppress the warning\n",
      "  warnings.warn(\n",
      "/opt/anaconda3/lib/python3.11/site-packages/sklearn/cluster/_kmeans.py:870: FutureWarning: The default value of `n_init` will change from 10 to 'auto' in 1.4. Set the value of `n_init` explicitly to suppress the warning\n",
      "  warnings.warn(\n",
      "/opt/anaconda3/lib/python3.11/site-packages/sklearn/cluster/_kmeans.py:870: FutureWarning: The default value of `n_init` will change from 10 to 'auto' in 1.4. Set the value of `n_init` explicitly to suppress the warning\n",
      "  warnings.warn(\n",
      "/opt/anaconda3/lib/python3.11/site-packages/sklearn/cluster/_kmeans.py:870: FutureWarning: The default value of `n_init` will change from 10 to 'auto' in 1.4. Set the value of `n_init` explicitly to suppress the warning\n",
      "  warnings.warn(\n",
      "/opt/anaconda3/lib/python3.11/site-packages/sklearn/cluster/_kmeans.py:870: FutureWarning: The default value of `n_init` will change from 10 to 'auto' in 1.4. Set the value of `n_init` explicitly to suppress the warning\n",
      "  warnings.warn(\n",
      "/opt/anaconda3/lib/python3.11/site-packages/sklearn/cluster/_kmeans.py:870: FutureWarning: The default value of `n_init` will change from 10 to 'auto' in 1.4. Set the value of `n_init` explicitly to suppress the warning\n",
      "  warnings.warn(\n",
      "/opt/anaconda3/lib/python3.11/site-packages/sklearn/cluster/_kmeans.py:870: FutureWarning: The default value of `n_init` will change from 10 to 'auto' in 1.4. Set the value of `n_init` explicitly to suppress the warning\n",
      "  warnings.warn(\n",
      "/opt/anaconda3/lib/python3.11/site-packages/sklearn/cluster/_kmeans.py:870: FutureWarning: The default value of `n_init` will change from 10 to 'auto' in 1.4. Set the value of `n_init` explicitly to suppress the warning\n",
      "  warnings.warn(\n",
      "/opt/anaconda3/lib/python3.11/site-packages/sklearn/cluster/_kmeans.py:870: FutureWarning: The default value of `n_init` will change from 10 to 'auto' in 1.4. Set the value of `n_init` explicitly to suppress the warning\n",
      "  warnings.warn(\n",
      "/opt/anaconda3/lib/python3.11/site-packages/sklearn/cluster/_kmeans.py:870: FutureWarning: The default value of `n_init` will change from 10 to 'auto' in 1.4. Set the value of `n_init` explicitly to suppress the warning\n",
      "  warnings.warn(\n"
     ]
    },
    {
     "data": {
      "image/png": "[encoded data removed]",
      "text/plain": [
       "<Figure size 640x480 with 1 Axes>"
      ]
     },
     "metadata": {},
     "output_type": "display_data"
    },
    {
     "name": "stderr",
     "output_type": "stream",
     "text": [
      "/opt/anaconda3/lib/python3.11/site-packages/sklearn/cluster/_kmeans.py:870: FutureWarning: The default value of `n_init` will change from 10 to 'auto' in 1.4. Set the value of `n_init` explicitly to suppress the warning\n",
      "  warnings.warn(\n"
     ]
    }
   ],
   "source": [
    "from sklearn.cluster import KMeans\n",
    "import matplotlib.pyplot as plt\n",
    "\n",
    "# Using the Elbow Method to find the optimal number of clusters\n",
    "wcss = []\n",
    "for i in range(1, 11):\n",
    "    kmeans = KMeans(n_clusters=i, init='k-means++', random_state=42)\n",
    "    kmeans.fit(X_scaled)\n",
    "    wcss.append(kmeans.inertia_)\n",
    "\n",
    "plt.plot(range(1, 11), wcss, marker=\"o\")\n",
    "plt.title('Elbow Method')\n",
    "plt.xlabel('Number of clusters')\n",
    "plt.ylabel('WCSS')\n",
    "plt.show()\n",
    "\n",
    "k=2\n",
    "kmeans = KMeans(n_clusters=k, init='k-means++', random_state=42)\n",
    "y_kmeans = kmeans.fit_predict(X_scaled)\n"
   ]
  },
  {
   "cell_type": "code",
   "execution_count": 50,
   "id": "6001bb68-d1f2-4652-9d9b-ae5e0d7dcb0e",
   "metadata": {},
   "outputs": [
    {
     "data": {
      "image/png": "[encoded data removed]",
      "text/plain": [
       "<Figure size 800x600 with 1 Axes>"
      ]
     },
     "metadata": {},
     "output_type": "display_data"
    }
   ],
   "source": [
    "from sklearn.decomposition import PCA\n",
    "import matplotlib.pyplot as plt\n",
    "\n",
    "pca = PCA(n_components=2)\n",
    "X_pca = pca.fit_transform(X_scaled)\n",
    "\n",
    "plt.figure(figsize=(8, 6))\n",
    "plt.scatter(X_pca[:, 0], X_pca[:, 1], c=kmeans.labels_, cmap='rainbow')\n",
    "plt.xlabel('PCA 1')\n",
    "plt.ylabel('PCA 2')\n",
    "plt.title('Cluster Visualization with PCA')\n",
    "plt.show()"
   ]
  },
  {
   "cell_type": "markdown",
   "id": "bd487ed9-67e1-4b71-84c8-942d2da811f7",
   "metadata": {},
   "source": [
    "# Applying Hierarchical Clustering"
   ]
  },
  {
   "cell_type": "code",
   "execution_count": 48,
   "id": "52b86ab5-b966-4a5a-810c-5eb88c0f647e",
   "metadata": {},
   "outputs": [
    {
     "data": {
      "image/png": "[encoded data removed]",
      "text/plain": [
       "<Figure size 800x500 with 1 Axes>"
      ]
     },
     "metadata": {},
     "output_type": "display_data"
    }
   ],
   "source": [
    "from scipy.cluster.hierarchy import dendrogram, linkage\n",
    "\n",
    "# Generating the linkage matrix\n",
    "Z = linkage(X_scaled, method='ward')\n",
    "\n",
    "# Plotting the dendrogram\n",
    "plt.figure(figsize=(8, 5))\n",
    "plt.title('Dendrogram')\n",
    "dendrogram(Z, no_labels=True)\n",
    "plt.show()\n"
   ]
  },
  {
   "cell_type": "code",
   "execution_count": null,
   "id": "48f654c3-cf0c-499b-bd88-120d85366195",
   "metadata": {},
   "outputs": [],
   "source": []
  }
 ],
 "metadata": {
  "kernelspec": {
   "display_name": "Python 3 (ipykernel)",
   "language": "python",
   "name": "python3"
  },
  "language_info": {
   "codemirror_mode": {
    "name": "ipython",
    "version": 3
   },
   "file_extension": ".py",
   "mimetype": "text/x-python",
   "name": "python",
   "nbconvert_exporter": "python",
   "pygments_lexer": "ipython3",
   "version": "3.11.7"
  }
 },
 "nbformat": 4,
 "nbformat_minor": 5
}
